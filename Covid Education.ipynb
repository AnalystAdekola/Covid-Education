{
 "cells": [
  {
   "cell_type": "markdown",
   "id": "ab495481",
   "metadata": {},
   "source": [
    "### COVID-19 EDUCATION IMPACT SURVEY DATA INVESTIGATION & VISUALIZATION"
   ]
  },
  {
   "cell_type": "markdown",
   "id": "2a7a30a0",
   "metadata": {},
   "source": [
    "\n",
    "## by ADELEKE ADEKOLA EMMANUEL\n",
    "\n",
    "## Industry: Education\n",
    "\n",
    "#### About Dataset\n",
    "Contains data crowdsourced from Venezuelans through the Premise Data mobile application. The survey is presented only once to users and aims to capture the impact of COVID-19 on children's education.\n",
    "\n",
    "#### Data Source\n",
    "https://data.humdata.org/dataset/open_one_time_covid_education_impact\n",
    "\n",
    "### Table of Contents\n",
    "<ul\n",
    "<li><a href=\"#intro\">Introduction</a></li>\n",
    "<li><a href=\"#wrangling\">Data Wrangling</a></li>\n",
    "<li><a href=\"#Data Assesment Outcome\">Data Assesment Outcome</a></li>\n",
    "<li><a href=\"#Data Cleaning\">Data Cleaning</a></li>\n",
    "<li><a href=\"#eda\">Exploratory Data Analysis</a></li>\n",
    "<li><a href=\"#conclusions\">Conclusions</a></li>\n",
    "</ul>"
   ]
  },
  {
   "cell_type": "markdown",
   "id": "71ccc42a",
   "metadata": {},
   "source": [
    "<a id='intro'></a>\n",
    "## Introduction\n",
    "\n",
    "### Dataset Description \n",
    "This dataset is a survey on the impact of covid-19 on education and how over 4000 people reacted to it.\n",
    "\n",
    "### Question(s) for Analysis\n",
    "\n",
    "1. Which gender responded more to the survey?\n",
    "2. Would you say the said gender responded more because of their unemployment status?\n",
    "3. What percentage of the population are unemployed?\n",
    "4. What percentage of the population are financially okay?\n",
    "5. Were children attending face to face classes during covid-19?\n",
    "6. Did teachers leave the educational system during covid-19?\n",
    "7. What percentage of teachers and students had internet connection to join online classes?\n",
    "\n",
    "We will be using Python libraries for the analysis, such as Pandas, NumPy, Matplotlib and Seaborn. \n"
   ]
  },
  {
   "cell_type": "code",
   "execution_count": 26,
   "id": "be8f4f06",
   "metadata": {},
   "outputs": [],
   "source": [
    "# import all packages and set plots to be embedded inline\n",
    "import numpy as np\n",
    "import pandas as pd\n",
    "import matplotlib.pyplot as plt\n",
    "import seaborn as sns\n",
    "\n",
    "%matplotlib inline\n",
    "\n",
    "# suppress warnings from final output\n",
    "import warnings\n",
    "warnings.simplefilter(\"ignore\")"
   ]
  },
  {
   "cell_type": "markdown",
   "id": "0fa9d869",
   "metadata": {},
   "source": [
    "<a id='wrangling'></a>\n",
    "# Data Wrangling\n",
    "\n",
    "\n",
    "### Preliminary Wrangling\n",
    "General Properties\n",
    "First, the data is read from the csv file and the first five rows are illustrated below."
   ]
  },
  {
   "cell_type": "code",
   "execution_count": 3,
   "id": "af4a44fc",
   "metadata": {},
   "outputs": [
    {
     "data": {
      "text/html": [
       "<div>\n",
       "<style scoped>\n",
       "    .dataframe tbody tr th:only-of-type {\n",
       "        vertical-align: middle;\n",
       "    }\n",
       "\n",
       "    .dataframe tbody tr th {\n",
       "        vertical-align: top;\n",
       "    }\n",
       "\n",
       "    .dataframe thead th {\n",
       "        text-align: right;\n",
       "    }\n",
       "</style>\n",
       "<table border=\"1\" class=\"dataframe\">\n",
       "  <thead>\n",
       "    <tr style=\"text-align: right;\">\n",
       "      <th></th>\n",
       "      <th>submission_id</th>\n",
       "      <th>submission_date</th>\n",
       "      <th>gender</th>\n",
       "      <th>age</th>\n",
       "      <th>geography</th>\n",
       "      <th>financial_situation</th>\n",
       "      <th>education</th>\n",
       "      <th>employment_status</th>\n",
       "      <th>submission_state</th>\n",
       "      <th>are_there_children_0_to_2_yrs_out_of_educational_system</th>\n",
       "      <th>...</th>\n",
       "      <th>are_children_3_to_17_yrs_dealing_with_irregular_school_activity</th>\n",
       "      <th>are_children_being_teached_by_unqualified_people</th>\n",
       "      <th>did_teachers_leave_the_educational_system</th>\n",
       "      <th>do_school_and_the_teachers_have_internet_connection</th>\n",
       "      <th>do_children_have_internet_connection</th>\n",
       "      <th>do_children_3_to_17_yrs_miss_virtual_class_due_to_lack_of_electricity</th>\n",
       "      <th>does_home_shows_severe_deficit_of_electricity</th>\n",
       "      <th>does_home_shows_severe_deficit_of_internet</th>\n",
       "      <th>do_children_3_to_17_yrs_miss_class_or_in_lower_grade</th>\n",
       "      <th>are_children_promoted_with_a_modality_different_from_formal_evaluation</th>\n",
       "    </tr>\n",
       "  </thead>\n",
       "  <tbody>\n",
       "    <tr>\n",
       "      <th>0</th>\n",
       "      <td>4570534489882624</td>\n",
       "      <td>2021-03-17</td>\n",
       "      <td>Female</td>\n",
       "      <td>Over 45 years old</td>\n",
       "      <td>Suburban/Peri-urban</td>\n",
       "      <td>I can afford food and regular expenses, but no...</td>\n",
       "      <td>University or college degree completed</td>\n",
       "      <td>I am unemployed</td>\n",
       "      <td>Miranda</td>\n",
       "      <td>0</td>\n",
       "      <td>...</td>\n",
       "      <td>0</td>\n",
       "      <td>0</td>\n",
       "      <td>0</td>\n",
       "      <td>1</td>\n",
       "      <td>1</td>\n",
       "      <td>0</td>\n",
       "      <td>0</td>\n",
       "      <td>0</td>\n",
       "      <td>0</td>\n",
       "      <td>0</td>\n",
       "    </tr>\n",
       "    <tr>\n",
       "      <th>1</th>\n",
       "      <td>6440166989496320</td>\n",
       "      <td>2021-03-29</td>\n",
       "      <td>Male</td>\n",
       "      <td>26 to 35 years old</td>\n",
       "      <td>Suburban/Peri-urban</td>\n",
       "      <td>I cannot afford enough food for my family</td>\n",
       "      <td>University or college degree completed</td>\n",
       "      <td>I am unemployed</td>\n",
       "      <td>Miranda</td>\n",
       "      <td>0</td>\n",
       "      <td>...</td>\n",
       "      <td>1</td>\n",
       "      <td>0</td>\n",
       "      <td>1</td>\n",
       "      <td>0</td>\n",
       "      <td>1</td>\n",
       "      <td>1</td>\n",
       "      <td>0</td>\n",
       "      <td>0</td>\n",
       "      <td>0</td>\n",
       "      <td>0</td>\n",
       "    </tr>\n",
       "    <tr>\n",
       "      <th>2</th>\n",
       "      <td>5001167808757760</td>\n",
       "      <td>2021-03-18</td>\n",
       "      <td>Female</td>\n",
       "      <td>26 to 35 years old</td>\n",
       "      <td>City center or metropolitan area</td>\n",
       "      <td>I can comfortably afford food, clothes, and fu...</td>\n",
       "      <td>University or college degree completed</td>\n",
       "      <td>I work full-time, either as an employee or sel...</td>\n",
       "      <td>Miranda</td>\n",
       "      <td>1</td>\n",
       "      <td>...</td>\n",
       "      <td>1</td>\n",
       "      <td>1</td>\n",
       "      <td>1</td>\n",
       "      <td>0</td>\n",
       "      <td>1</td>\n",
       "      <td>0</td>\n",
       "      <td>1</td>\n",
       "      <td>0</td>\n",
       "      <td>0</td>\n",
       "      <td>1</td>\n",
       "    </tr>\n",
       "    <tr>\n",
       "      <th>3</th>\n",
       "      <td>5524933164924928</td>\n",
       "      <td>2021-03-24</td>\n",
       "      <td>Male</td>\n",
       "      <td>36 to 45 years old</td>\n",
       "      <td>Suburban/Peri-urban</td>\n",
       "      <td>I can afford food, but nothing else</td>\n",
       "      <td>University or college degree completed</td>\n",
       "      <td>I work full-time, either as an employee or sel...</td>\n",
       "      <td>Miranda</td>\n",
       "      <td>0</td>\n",
       "      <td>...</td>\n",
       "      <td>1</td>\n",
       "      <td>1</td>\n",
       "      <td>1</td>\n",
       "      <td>0</td>\n",
       "      <td>1</td>\n",
       "      <td>0</td>\n",
       "      <td>0</td>\n",
       "      <td>0</td>\n",
       "      <td>0</td>\n",
       "      <td>0</td>\n",
       "    </tr>\n",
       "    <tr>\n",
       "      <th>4</th>\n",
       "      <td>5032515751641088</td>\n",
       "      <td>2021-03-18</td>\n",
       "      <td>Female</td>\n",
       "      <td>Over 45 years old</td>\n",
       "      <td>Suburban/Peri-urban</td>\n",
       "      <td>I can afford food and regular expenses, but no...</td>\n",
       "      <td>University or college degree completed</td>\n",
       "      <td>I am unemployed</td>\n",
       "      <td>Miranda</td>\n",
       "      <td>0</td>\n",
       "      <td>...</td>\n",
       "      <td>1</td>\n",
       "      <td>0</td>\n",
       "      <td>1</td>\n",
       "      <td>0</td>\n",
       "      <td>1</td>\n",
       "      <td>1</td>\n",
       "      <td>0</td>\n",
       "      <td>0</td>\n",
       "      <td>0</td>\n",
       "      <td>1</td>\n",
       "    </tr>\n",
       "  </tbody>\n",
       "</table>\n",
       "<p>5 rows × 27 columns</p>\n",
       "</div>"
      ],
      "text/plain": [
       "      submission_id submission_date  gender                 age  \\\n",
       "0  4570534489882624      2021-03-17  Female   Over 45 years old   \n",
       "1  6440166989496320      2021-03-29    Male  26 to 35 years old   \n",
       "2  5001167808757760      2021-03-18  Female  26 to 35 years old   \n",
       "3  5524933164924928      2021-03-24    Male  36 to 45 years old   \n",
       "4  5032515751641088      2021-03-18  Female   Over 45 years old   \n",
       "\n",
       "                          geography  \\\n",
       "0               Suburban/Peri-urban   \n",
       "1               Suburban/Peri-urban   \n",
       "2  City center or metropolitan area   \n",
       "3               Suburban/Peri-urban   \n",
       "4               Suburban/Peri-urban   \n",
       "\n",
       "                                 financial_situation  \\\n",
       "0  I can afford food and regular expenses, but no...   \n",
       "1          I cannot afford enough food for my family   \n",
       "2  I can comfortably afford food, clothes, and fu...   \n",
       "3                I can afford food, but nothing else   \n",
       "4  I can afford food and regular expenses, but no...   \n",
       "\n",
       "                                education  \\\n",
       "0  University or college degree completed   \n",
       "1  University or college degree completed   \n",
       "2  University or college degree completed   \n",
       "3  University or college degree completed   \n",
       "4  University or college degree completed   \n",
       "\n",
       "                                   employment_status submission_state  \\\n",
       "0                                    I am unemployed          Miranda   \n",
       "1                                    I am unemployed          Miranda   \n",
       "2  I work full-time, either as an employee or sel...          Miranda   \n",
       "3  I work full-time, either as an employee or sel...          Miranda   \n",
       "4                                    I am unemployed          Miranda   \n",
       "\n",
       "   are_there_children_0_to_2_yrs_out_of_educational_system  ...  \\\n",
       "0                                                  0        ...   \n",
       "1                                                  0        ...   \n",
       "2                                                  1        ...   \n",
       "3                                                  0        ...   \n",
       "4                                                  0        ...   \n",
       "\n",
       "   are_children_3_to_17_yrs_dealing_with_irregular_school_activity  \\\n",
       "0                                                  0                 \n",
       "1                                                  1                 \n",
       "2                                                  1                 \n",
       "3                                                  1                 \n",
       "4                                                  1                 \n",
       "\n",
       "   are_children_being_teached_by_unqualified_people  \\\n",
       "0                                                 0   \n",
       "1                                                 0   \n",
       "2                                                 1   \n",
       "3                                                 1   \n",
       "4                                                 0   \n",
       "\n",
       "   did_teachers_leave_the_educational_system  \\\n",
       "0                                          0   \n",
       "1                                          1   \n",
       "2                                          1   \n",
       "3                                          1   \n",
       "4                                          1   \n",
       "\n",
       "   do_school_and_the_teachers_have_internet_connection  \\\n",
       "0                                                  1     \n",
       "1                                                  0     \n",
       "2                                                  0     \n",
       "3                                                  0     \n",
       "4                                                  0     \n",
       "\n",
       "   do_children_have_internet_connection  \\\n",
       "0                                     1   \n",
       "1                                     1   \n",
       "2                                     1   \n",
       "3                                     1   \n",
       "4                                     1   \n",
       "\n",
       "  do_children_3_to_17_yrs_miss_virtual_class_due_to_lack_of_electricity  \\\n",
       "0                                                  0                      \n",
       "1                                                  1                      \n",
       "2                                                  0                      \n",
       "3                                                  0                      \n",
       "4                                                  1                      \n",
       "\n",
       "  does_home_shows_severe_deficit_of_electricity  \\\n",
       "0                                             0   \n",
       "1                                             0   \n",
       "2                                             1   \n",
       "3                                             0   \n",
       "4                                             0   \n",
       "\n",
       "   does_home_shows_severe_deficit_of_internet  \\\n",
       "0                                           0   \n",
       "1                                           0   \n",
       "2                                           0   \n",
       "3                                           0   \n",
       "4                                           0   \n",
       "\n",
       "   do_children_3_to_17_yrs_miss_class_or_in_lower_grade  \\\n",
       "0                                                  0      \n",
       "1                                                  0      \n",
       "2                                                  0      \n",
       "3                                                  0      \n",
       "4                                                  0      \n",
       "\n",
       "   are_children_promoted_with_a_modality_different_from_formal_evaluation  \n",
       "0                                                  0                       \n",
       "1                                                  0                       \n",
       "2                                                  1                       \n",
       "3                                                  0                       \n",
       "4                                                  1                       \n",
       "\n",
       "[5 rows x 27 columns]"
      ]
     },
     "execution_count": 3,
     "metadata": {},
     "output_type": "execute_result"
    }
   ],
   "source": [
    "#import dataset and view the first 5 rows\n",
    "covedu = pd.read_csv('covid_education.csv')\n",
    "covedu.head()"
   ]
  },
  {
   "cell_type": "code",
   "execution_count": 4,
   "id": "f229a733",
   "metadata": {
    "scrolled": true
   },
   "outputs": [
    {
     "name": "stdout",
     "output_type": "stream",
     "text": [
      "<class 'pandas.core.frame.DataFrame'>\n",
      "RangeIndex: 4436 entries, 0 to 4435\n",
      "Data columns (total 27 columns):\n",
      " #   Column                                                                  Non-Null Count  Dtype \n",
      "---  ------                                                                  --------------  ----- \n",
      " 0   submission_id                                                           4436 non-null   int64 \n",
      " 1   submission_date                                                         4436 non-null   object\n",
      " 2   gender                                                                  4436 non-null   object\n",
      " 3   age                                                                     4436 non-null   object\n",
      " 4   geography                                                               4436 non-null   object\n",
      " 5   financial_situation                                                     4436 non-null   object\n",
      " 6   education                                                               4436 non-null   object\n",
      " 7   employment_status                                                       4436 non-null   object\n",
      " 8   submission_state                                                        4436 non-null   object\n",
      " 9   are_there_children_0_to_2_yrs_out_of_educational_system                 4436 non-null   int64 \n",
      " 10  were_children_3_to_17_yrs_enrolled_and_did_not_return_to_school         4436 non-null   int64 \n",
      " 11  are_there_children_who_stopped_enrolling_in_primary_education           4436 non-null   int64 \n",
      " 12  are_there_children_who_stopped_enrolling_in_secondary_education         4436 non-null   int64 \n",
      " 13  are_children_attending_face_to_face_classes                             4436 non-null   int64 \n",
      " 14  can_children_observe_deterioration_of_basic_services_of_school          4436 non-null   int64 \n",
      " 15  do_children_3_and_17_yrs_receive_regular_school_meals                   4436 non-null   object\n",
      " 16  are_there_teachers_at_scheduled_class_hours                             4436 non-null   object\n",
      " 17  are_children_3_to_17_yrs_dealing_with_irregular_school_activity         4436 non-null   int64 \n",
      " 18  are_children_being_teached_by_unqualified_people                        4436 non-null   int64 \n",
      " 19  did_teachers_leave_the_educational_system                               4436 non-null   int64 \n",
      " 20  do_school_and_the_teachers_have_internet_connection                     4436 non-null   int64 \n",
      " 21  do_children_have_internet_connection                                    4436 non-null   int64 \n",
      " 22  do_children_3_to_17_yrs_miss_virtual_class_due_to_lack_of_electricity   4436 non-null   int64 \n",
      " 23  does_home_shows_severe_deficit_of_electricity                           4436 non-null   int64 \n",
      " 24  does_home_shows_severe_deficit_of_internet                              4436 non-null   int64 \n",
      " 25  do_children_3_to_17_yrs_miss_class_or_in_lower_grade                    4436 non-null   int64 \n",
      " 26  are_children_promoted_with_a_modality_different_from_formal_evaluation  4436 non-null   int64 \n",
      "dtypes: int64(17), object(10)\n",
      "memory usage: 935.8+ KB\n"
     ]
    }
   ],
   "source": [
    "#checking for data information\n",
    "covedu.info()"
   ]
  },
  {
   "cell_type": "markdown",
   "id": "5f7ff63c",
   "metadata": {},
   "source": [
    "The above shows there are 27 columns in the dataset, which 17 are integers while 10 are objects"
   ]
  },
  {
   "cell_type": "code",
   "execution_count": 5,
   "id": "69b3d47e",
   "metadata": {
    "scrolled": true
   },
   "outputs": [
    {
     "data": {
      "text/html": [
       "<div>\n",
       "<style scoped>\n",
       "    .dataframe tbody tr th:only-of-type {\n",
       "        vertical-align: middle;\n",
       "    }\n",
       "\n",
       "    .dataframe tbody tr th {\n",
       "        vertical-align: top;\n",
       "    }\n",
       "\n",
       "    .dataframe thead th {\n",
       "        text-align: right;\n",
       "    }\n",
       "</style>\n",
       "<table border=\"1\" class=\"dataframe\">\n",
       "  <thead>\n",
       "    <tr style=\"text-align: right;\">\n",
       "      <th></th>\n",
       "      <th>submission_id</th>\n",
       "      <th>are_there_children_0_to_2_yrs_out_of_educational_system</th>\n",
       "      <th>were_children_3_to_17_yrs_enrolled_and_did_not_return_to_school</th>\n",
       "      <th>are_there_children_who_stopped_enrolling_in_primary_education</th>\n",
       "      <th>are_there_children_who_stopped_enrolling_in_secondary_education</th>\n",
       "      <th>are_children_attending_face_to_face_classes</th>\n",
       "      <th>can_children_observe_deterioration_of_basic_services_of_school</th>\n",
       "      <th>are_children_3_to_17_yrs_dealing_with_irregular_school_activity</th>\n",
       "      <th>are_children_being_teached_by_unqualified_people</th>\n",
       "      <th>did_teachers_leave_the_educational_system</th>\n",
       "      <th>do_school_and_the_teachers_have_internet_connection</th>\n",
       "      <th>do_children_have_internet_connection</th>\n",
       "      <th>do_children_3_to_17_yrs_miss_virtual_class_due_to_lack_of_electricity</th>\n",
       "      <th>does_home_shows_severe_deficit_of_electricity</th>\n",
       "      <th>does_home_shows_severe_deficit_of_internet</th>\n",
       "      <th>do_children_3_to_17_yrs_miss_class_or_in_lower_grade</th>\n",
       "      <th>are_children_promoted_with_a_modality_different_from_formal_evaluation</th>\n",
       "    </tr>\n",
       "  </thead>\n",
       "  <tbody>\n",
       "    <tr>\n",
       "      <th>count</th>\n",
       "      <td>4.436000e+03</td>\n",
       "      <td>4436.000000</td>\n",
       "      <td>4436.000000</td>\n",
       "      <td>4436.000000</td>\n",
       "      <td>4436.000000</td>\n",
       "      <td>4436.000000</td>\n",
       "      <td>4436.000000</td>\n",
       "      <td>4436.000000</td>\n",
       "      <td>4436.000000</td>\n",
       "      <td>4436.000000</td>\n",
       "      <td>4436.000000</td>\n",
       "      <td>4436.000000</td>\n",
       "      <td>4436.000000</td>\n",
       "      <td>4436.000000</td>\n",
       "      <td>4436.000000</td>\n",
       "      <td>4436.000000</td>\n",
       "      <td>4436.000000</td>\n",
       "    </tr>\n",
       "    <tr>\n",
       "      <th>mean</th>\n",
       "      <td>5.633310e+15</td>\n",
       "      <td>0.294860</td>\n",
       "      <td>0.613165</td>\n",
       "      <td>0.206492</td>\n",
       "      <td>0.194319</td>\n",
       "      <td>0.163661</td>\n",
       "      <td>0.800496</td>\n",
       "      <td>0.643147</td>\n",
       "      <td>0.316501</td>\n",
       "      <td>0.664337</td>\n",
       "      <td>0.560415</td>\n",
       "      <td>0.628494</td>\n",
       "      <td>0.665464</td>\n",
       "      <td>0.284491</td>\n",
       "      <td>0.579125</td>\n",
       "      <td>0.246393</td>\n",
       "      <td>0.427187</td>\n",
       "    </tr>\n",
       "    <tr>\n",
       "      <th>std</th>\n",
       "      <td>6.466765e+14</td>\n",
       "      <td>0.456031</td>\n",
       "      <td>0.487080</td>\n",
       "      <td>0.404834</td>\n",
       "      <td>0.395720</td>\n",
       "      <td>0.370009</td>\n",
       "      <td>0.399673</td>\n",
       "      <td>0.479125</td>\n",
       "      <td>0.465163</td>\n",
       "      <td>0.472275</td>\n",
       "      <td>0.496393</td>\n",
       "      <td>0.483262</td>\n",
       "      <td>0.471881</td>\n",
       "      <td>0.451222</td>\n",
       "      <td>0.493755</td>\n",
       "      <td>0.430959</td>\n",
       "      <td>0.494726</td>\n",
       "    </tr>\n",
       "    <tr>\n",
       "      <th>min</th>\n",
       "      <td>4.503608e+15</td>\n",
       "      <td>0.000000</td>\n",
       "      <td>0.000000</td>\n",
       "      <td>0.000000</td>\n",
       "      <td>0.000000</td>\n",
       "      <td>0.000000</td>\n",
       "      <td>0.000000</td>\n",
       "      <td>0.000000</td>\n",
       "      <td>0.000000</td>\n",
       "      <td>0.000000</td>\n",
       "      <td>0.000000</td>\n",
       "      <td>0.000000</td>\n",
       "      <td>0.000000</td>\n",
       "      <td>0.000000</td>\n",
       "      <td>0.000000</td>\n",
       "      <td>0.000000</td>\n",
       "      <td>0.000000</td>\n",
       "    </tr>\n",
       "    <tr>\n",
       "      <th>25%</th>\n",
       "      <td>5.076908e+15</td>\n",
       "      <td>0.000000</td>\n",
       "      <td>0.000000</td>\n",
       "      <td>0.000000</td>\n",
       "      <td>0.000000</td>\n",
       "      <td>0.000000</td>\n",
       "      <td>1.000000</td>\n",
       "      <td>0.000000</td>\n",
       "      <td>0.000000</td>\n",
       "      <td>0.000000</td>\n",
       "      <td>0.000000</td>\n",
       "      <td>0.000000</td>\n",
       "      <td>0.000000</td>\n",
       "      <td>0.000000</td>\n",
       "      <td>0.000000</td>\n",
       "      <td>0.000000</td>\n",
       "      <td>0.000000</td>\n",
       "    </tr>\n",
       "    <tr>\n",
       "      <th>50%</th>\n",
       "      <td>5.642197e+15</td>\n",
       "      <td>0.000000</td>\n",
       "      <td>1.000000</td>\n",
       "      <td>0.000000</td>\n",
       "      <td>0.000000</td>\n",
       "      <td>0.000000</td>\n",
       "      <td>1.000000</td>\n",
       "      <td>1.000000</td>\n",
       "      <td>0.000000</td>\n",
       "      <td>1.000000</td>\n",
       "      <td>1.000000</td>\n",
       "      <td>1.000000</td>\n",
       "      <td>1.000000</td>\n",
       "      <td>0.000000</td>\n",
       "      <td>1.000000</td>\n",
       "      <td>0.000000</td>\n",
       "      <td>0.000000</td>\n",
       "    </tr>\n",
       "    <tr>\n",
       "      <th>75%</th>\n",
       "      <td>6.187797e+15</td>\n",
       "      <td>1.000000</td>\n",
       "      <td>1.000000</td>\n",
       "      <td>0.000000</td>\n",
       "      <td>0.000000</td>\n",
       "      <td>0.000000</td>\n",
       "      <td>1.000000</td>\n",
       "      <td>1.000000</td>\n",
       "      <td>1.000000</td>\n",
       "      <td>1.000000</td>\n",
       "      <td>1.000000</td>\n",
       "      <td>1.000000</td>\n",
       "      <td>1.000000</td>\n",
       "      <td>1.000000</td>\n",
       "      <td>1.000000</td>\n",
       "      <td>0.000000</td>\n",
       "      <td>1.000000</td>\n",
       "    </tr>\n",
       "    <tr>\n",
       "      <th>max</th>\n",
       "      <td>6.755339e+15</td>\n",
       "      <td>1.000000</td>\n",
       "      <td>1.000000</td>\n",
       "      <td>1.000000</td>\n",
       "      <td>1.000000</td>\n",
       "      <td>1.000000</td>\n",
       "      <td>1.000000</td>\n",
       "      <td>1.000000</td>\n",
       "      <td>1.000000</td>\n",
       "      <td>1.000000</td>\n",
       "      <td>1.000000</td>\n",
       "      <td>1.000000</td>\n",
       "      <td>1.000000</td>\n",
       "      <td>1.000000</td>\n",
       "      <td>1.000000</td>\n",
       "      <td>1.000000</td>\n",
       "      <td>1.000000</td>\n",
       "    </tr>\n",
       "  </tbody>\n",
       "</table>\n",
       "</div>"
      ],
      "text/plain": [
       "       submission_id  are_there_children_0_to_2_yrs_out_of_educational_system  \\\n",
       "count   4.436000e+03                                        4436.000000         \n",
       "mean    5.633310e+15                                           0.294860         \n",
       "std     6.466765e+14                                           0.456031         \n",
       "min     4.503608e+15                                           0.000000         \n",
       "25%     5.076908e+15                                           0.000000         \n",
       "50%     5.642197e+15                                           0.000000         \n",
       "75%     6.187797e+15                                           1.000000         \n",
       "max     6.755339e+15                                           1.000000         \n",
       "\n",
       "       were_children_3_to_17_yrs_enrolled_and_did_not_return_to_school  \\\n",
       "count                                        4436.000000                 \n",
       "mean                                            0.613165                 \n",
       "std                                             0.487080                 \n",
       "min                                             0.000000                 \n",
       "25%                                             0.000000                 \n",
       "50%                                             1.000000                 \n",
       "75%                                             1.000000                 \n",
       "max                                             1.000000                 \n",
       "\n",
       "       are_there_children_who_stopped_enrolling_in_primary_education  \\\n",
       "count                                        4436.000000               \n",
       "mean                                            0.206492               \n",
       "std                                             0.404834               \n",
       "min                                             0.000000               \n",
       "25%                                             0.000000               \n",
       "50%                                             0.000000               \n",
       "75%                                             0.000000               \n",
       "max                                             1.000000               \n",
       "\n",
       "       are_there_children_who_stopped_enrolling_in_secondary_education  \\\n",
       "count                                        4436.000000                 \n",
       "mean                                            0.194319                 \n",
       "std                                             0.395720                 \n",
       "min                                             0.000000                 \n",
       "25%                                             0.000000                 \n",
       "50%                                             0.000000                 \n",
       "75%                                             0.000000                 \n",
       "max                                             1.000000                 \n",
       "\n",
       "       are_children_attending_face_to_face_classes  \\\n",
       "count                                  4436.000000   \n",
       "mean                                      0.163661   \n",
       "std                                       0.370009   \n",
       "min                                       0.000000   \n",
       "25%                                       0.000000   \n",
       "50%                                       0.000000   \n",
       "75%                                       0.000000   \n",
       "max                                       1.000000   \n",
       "\n",
       "       can_children_observe_deterioration_of_basic_services_of_school  \\\n",
       "count                                        4436.000000                \n",
       "mean                                            0.800496                \n",
       "std                                             0.399673                \n",
       "min                                             0.000000                \n",
       "25%                                             1.000000                \n",
       "50%                                             1.000000                \n",
       "75%                                             1.000000                \n",
       "max                                             1.000000                \n",
       "\n",
       "       are_children_3_to_17_yrs_dealing_with_irregular_school_activity  \\\n",
       "count                                        4436.000000                 \n",
       "mean                                            0.643147                 \n",
       "std                                             0.479125                 \n",
       "min                                             0.000000                 \n",
       "25%                                             0.000000                 \n",
       "50%                                             1.000000                 \n",
       "75%                                             1.000000                 \n",
       "max                                             1.000000                 \n",
       "\n",
       "       are_children_being_teached_by_unqualified_people  \\\n",
       "count                                       4436.000000   \n",
       "mean                                           0.316501   \n",
       "std                                            0.465163   \n",
       "min                                            0.000000   \n",
       "25%                                            0.000000   \n",
       "50%                                            0.000000   \n",
       "75%                                            1.000000   \n",
       "max                                            1.000000   \n",
       "\n",
       "       did_teachers_leave_the_educational_system  \\\n",
       "count                                4436.000000   \n",
       "mean                                    0.664337   \n",
       "std                                     0.472275   \n",
       "min                                     0.000000   \n",
       "25%                                     0.000000   \n",
       "50%                                     1.000000   \n",
       "75%                                     1.000000   \n",
       "max                                     1.000000   \n",
       "\n",
       "       do_school_and_the_teachers_have_internet_connection  \\\n",
       "count                                        4436.000000     \n",
       "mean                                            0.560415     \n",
       "std                                             0.496393     \n",
       "min                                             0.000000     \n",
       "25%                                             0.000000     \n",
       "50%                                             1.000000     \n",
       "75%                                             1.000000     \n",
       "max                                             1.000000     \n",
       "\n",
       "       do_children_have_internet_connection  \\\n",
       "count                           4436.000000   \n",
       "mean                               0.628494   \n",
       "std                                0.483262   \n",
       "min                                0.000000   \n",
       "25%                                0.000000   \n",
       "50%                                1.000000   \n",
       "75%                                1.000000   \n",
       "max                                1.000000   \n",
       "\n",
       "       do_children_3_to_17_yrs_miss_virtual_class_due_to_lack_of_electricity  \\\n",
       "count                                        4436.000000                       \n",
       "mean                                            0.665464                       \n",
       "std                                             0.471881                       \n",
       "min                                             0.000000                       \n",
       "25%                                             0.000000                       \n",
       "50%                                             1.000000                       \n",
       "75%                                             1.000000                       \n",
       "max                                             1.000000                       \n",
       "\n",
       "       does_home_shows_severe_deficit_of_electricity  \\\n",
       "count                                    4436.000000   \n",
       "mean                                        0.284491   \n",
       "std                                         0.451222   \n",
       "min                                         0.000000   \n",
       "25%                                         0.000000   \n",
       "50%                                         0.000000   \n",
       "75%                                         1.000000   \n",
       "max                                         1.000000   \n",
       "\n",
       "       does_home_shows_severe_deficit_of_internet  \\\n",
       "count                                 4436.000000   \n",
       "mean                                     0.579125   \n",
       "std                                      0.493755   \n",
       "min                                      0.000000   \n",
       "25%                                      0.000000   \n",
       "50%                                      1.000000   \n",
       "75%                                      1.000000   \n",
       "max                                      1.000000   \n",
       "\n",
       "       do_children_3_to_17_yrs_miss_class_or_in_lower_grade  \\\n",
       "count                                        4436.000000      \n",
       "mean                                            0.246393      \n",
       "std                                             0.430959      \n",
       "min                                             0.000000      \n",
       "25%                                             0.000000      \n",
       "50%                                             0.000000      \n",
       "75%                                             0.000000      \n",
       "max                                             1.000000      \n",
       "\n",
       "       are_children_promoted_with_a_modality_different_from_formal_evaluation  \n",
       "count                                        4436.000000                       \n",
       "mean                                            0.427187                       \n",
       "std                                             0.494726                       \n",
       "min                                             0.000000                       \n",
       "25%                                             0.000000                       \n",
       "50%                                             0.000000                       \n",
       "75%                                             1.000000                       \n",
       "max                                             1.000000                       "
      ]
     },
     "execution_count": 5,
     "metadata": {},
     "output_type": "execute_result"
    }
   ],
   "source": [
    "#Checking for outliers and other statistical measures in the dataset\n",
    "covedu.describe()"
   ]
  },
  {
   "cell_type": "markdown",
   "id": "9fe2e84d",
   "metadata": {},
   "source": [
    "The above shows there is no outlier."
   ]
  },
  {
   "cell_type": "code",
   "execution_count": 6,
   "id": "250a3f60",
   "metadata": {},
   "outputs": [
    {
     "data": {
      "text/plain": [
       "(4436, 27)"
      ]
     },
     "execution_count": 6,
     "metadata": {},
     "output_type": "execute_result"
    }
   ],
   "source": [
    "#Checking the data shape\n",
    "covedu.shape"
   ]
  },
  {
   "cell_type": "markdown",
   "id": "0ce5e382",
   "metadata": {},
   "source": [
    "The shape shows this dataset contains 27 columns and 4436 rows in total."
   ]
  },
  {
   "cell_type": "code",
   "execution_count": 8,
   "id": "95c66a94",
   "metadata": {},
   "outputs": [
    {
     "data": {
      "text/plain": [
       "0"
      ]
     },
     "execution_count": 8,
     "metadata": {},
     "output_type": "execute_result"
    }
   ],
   "source": [
    "#Checking for duplicated entries\n",
    "covedu.duplicated().sum()"
   ]
  },
  {
   "cell_type": "markdown",
   "id": "08045d03",
   "metadata": {},
   "source": [
    "No duplicates"
   ]
  },
  {
   "cell_type": "code",
   "execution_count": 9,
   "id": "d54bf2f2",
   "metadata": {
    "scrolled": true
   },
   "outputs": [
    {
     "data": {
      "text/plain": [
       "submission_id                                                             0\n",
       "submission_date                                                           0\n",
       "gender                                                                    0\n",
       "age                                                                       0\n",
       "geography                                                                 0\n",
       "financial_situation                                                       0\n",
       "education                                                                 0\n",
       "employment_status                                                         0\n",
       "submission_state                                                          0\n",
       "are_there_children_0_to_2_yrs_out_of_educational_system                   0\n",
       "were_children_3_to_17_yrs_enrolled_and_did_not_return_to_school           0\n",
       "are_there_children_who_stopped_enrolling_in_primary_education             0\n",
       "are_there_children_who_stopped_enrolling_in_secondary_education           0\n",
       "are_children_attending_face_to_face_classes                               0\n",
       "can_children_observe_deterioration_of_basic_services_of_school            0\n",
       "do_children_3_and_17_yrs_receive_regular_school_meals                     0\n",
       "are_there_teachers_at_scheduled_class_hours                               0\n",
       "are_children_3_to_17_yrs_dealing_with_irregular_school_activity           0\n",
       "are_children_being_teached_by_unqualified_people                          0\n",
       "did_teachers_leave_the_educational_system                                 0\n",
       "do_school_and_the_teachers_have_internet_connection                       0\n",
       "do_children_have_internet_connection                                      0\n",
       "do_children_3_to_17_yrs_miss_virtual_class_due_to_lack_of_electricity     0\n",
       "does_home_shows_severe_deficit_of_electricity                             0\n",
       "does_home_shows_severe_deficit_of_internet                                0\n",
       "do_children_3_to_17_yrs_miss_class_or_in_lower_grade                      0\n",
       "are_children_promoted_with_a_modality_different_from_formal_evaluation    0\n",
       "dtype: int64"
      ]
     },
     "execution_count": 9,
     "metadata": {},
     "output_type": "execute_result"
    }
   ],
   "source": [
    "#Checking for missing data\n",
    "covedu.isna().sum()"
   ]
  },
  {
   "cell_type": "markdown",
   "id": "475b2510",
   "metadata": {},
   "source": [
    "No missing data."
   ]
  },
  {
   "cell_type": "markdown",
   "id": "2eeb8ede",
   "metadata": {},
   "source": [
    "<a id='Data Assesment Outcome'></a>\n",
    "### Data Assesment Outcome\n",
    "##### Quality Issues\n",
    "\n",
    "#### Some columns are not needed for this analysis\n",
    "are_there_children_0_to_2_yrs_out_of_educational_system              \n",
    "were_children_3_to_17_yrs_enrolled_and_did_not_return_to_school            \n",
    "are_there_children_who_stopped_enrolling_in_primary_education              \n",
    "are_there_children_who_stopped_enrolling_in_secondary_education            \n",
    "can_children_observe_deterioration_of_basic_services_of_school            \n",
    "do_children_3_and_17_yrs_receive_regular_school_meals                     \n",
    "are_there_teachers_at_scheduled_class_hours                               \n",
    "are_children_3_to_17_yrs_dealing_with_irregular_school_activity    \n",
    "are_children_being_teached_by_unqualified_people\n",
    "do_children_3_to_17_yrs_miss_virtual_class_due_to_lack_of_electricity     \n",
    "does_home_shows_severe_deficit_of_electricity                             \n",
    "does_home_shows_severe_deficit_of_internet                                \n",
    "do_children_3_to_17_yrs_miss_class_or_in_lower_grade                      \n",
    "are_children_promoted_with_a_modality_different_from_formal_evaluation    \n",
    "\n",
    "#### Some column names need to be changed for clearer identification\n",
    "submission_id \n",
    "submission_date \n",
    "geography  \n",
    "submission_state \n",
    "are_children_attending_face_to_face_classes \n",
    "did_teachers_leave_the_educational_system  \n",
    "do_school_and_the_teachers_have_internet_connection    \n",
    "do_children_have_internet_connection  "
   ]
  },
  {
   "cell_type": "markdown",
   "id": "b03e5704",
   "metadata": {},
   "source": [
    "<a id='Data Cleaning'></a>\n",
    "## Data Cleaning & PCA\n",
    "The programmatic data cleaning process:  \n",
    "\n",
    "Define   \n",
    "Code   \n",
    "Test   "
   ]
  },
  {
   "cell_type": "code",
   "execution_count": 10,
   "id": "0e3f7f53",
   "metadata": {},
   "outputs": [],
   "source": [
    "#A copy of the dataset\n",
    "covedu1 = covedu.copy()"
   ]
  },
  {
   "cell_type": "code",
   "execution_count": 11,
   "id": "b1d6423f",
   "metadata": {},
   "outputs": [],
   "source": [
    "#Dropping all unused columns\n",
    "covedu1.drop(['are_there_children_0_to_2_yrs_out_of_educational_system',\n",
    "    'were_children_3_to_17_yrs_enrolled_and_did_not_return_to_school',\n",
    "    'are_there_children_who_stopped_enrolling_in_primary_education',\n",
    "    'are_there_children_who_stopped_enrolling_in_secondary_education',\n",
    "    'can_children_observe_deterioration_of_basic_services_of_school',         \n",
    "    'do_children_3_and_17_yrs_receive_regular_school_meals',\n",
    "    'are_there_teachers_at_scheduled_class_hours',                               \n",
    "    'are_children_3_to_17_yrs_dealing_with_irregular_school_activity',   \n",
    "    'are_children_being_teached_by_unqualified_people',\n",
    "    'do_children_3_to_17_yrs_miss_virtual_class_due_to_lack_of_electricity',  \n",
    "    'does_home_shows_severe_deficit_of_electricity',                      \n",
    "    'does_home_shows_severe_deficit_of_internet',                    \n",
    "    'do_children_3_to_17_yrs_miss_class_or_in_lower_grade',            \n",
    "    'are_children_promoted_with_a_modality_different_from_formal_evaluation'], \n",
    "             axis = 1, inplace = True)"
   ]
  },
  {
   "cell_type": "code",
   "execution_count": 12,
   "id": "f3af4638",
   "metadata": {},
   "outputs": [
    {
     "name": "stdout",
     "output_type": "stream",
     "text": [
      "<class 'pandas.core.frame.DataFrame'>\n",
      "RangeIndex: 4436 entries, 0 to 4435\n",
      "Data columns (total 13 columns):\n",
      " #   Column                                               Non-Null Count  Dtype \n",
      "---  ------                                               --------------  ----- \n",
      " 0   submission_id                                        4436 non-null   int64 \n",
      " 1   submission_date                                      4436 non-null   object\n",
      " 2   gender                                               4436 non-null   object\n",
      " 3   age                                                  4436 non-null   object\n",
      " 4   geography                                            4436 non-null   object\n",
      " 5   financial_situation                                  4436 non-null   object\n",
      " 6   education                                            4436 non-null   object\n",
      " 7   employment_status                                    4436 non-null   object\n",
      " 8   submission_state                                     4436 non-null   object\n",
      " 9   are_children_attending_face_to_face_classes          4436 non-null   int64 \n",
      " 10  did_teachers_leave_the_educational_system            4436 non-null   int64 \n",
      " 11  do_school_and_the_teachers_have_internet_connection  4436 non-null   int64 \n",
      " 12  do_children_have_internet_connection                 4436 non-null   int64 \n",
      "dtypes: int64(5), object(8)\n",
      "memory usage: 450.7+ KB\n"
     ]
    }
   ],
   "source": [
    "#Check for dropped columns\n",
    "covedu1.info()"
   ]
  },
  {
   "cell_type": "markdown",
   "id": "ac9c999a",
   "metadata": {},
   "source": [
    "Unused columns dropped  \n",
    "We now have 13 columns to work with"
   ]
  },
  {
   "cell_type": "code",
   "execution_count": 23,
   "id": "9852f379",
   "metadata": {},
   "outputs": [],
   "source": [
    "#Changing the column names for better identification\n",
    "covedu1.rename(columns={'gender':'GENDER',\n",
    "                        'age':'AGE'},\n",
    "                            inplace=True, errors='raise')"
   ]
  },
  {
   "cell_type": "code",
   "execution_count": 24,
   "id": "51123297",
   "metadata": {},
   "outputs": [
    {
     "name": "stdout",
     "output_type": "stream",
     "text": [
      "<class 'pandas.core.frame.DataFrame'>\n",
      "RangeIndex: 4436 entries, 0 to 4435\n",
      "Data columns (total 13 columns):\n",
      " #   Column                                               Non-Null Count  Dtype \n",
      "---  ------                                               --------------  ----- \n",
      " 0   ID                                                   4436 non-null   int64 \n",
      " 1   SURVEY DATE                                          4436 non-null   object\n",
      " 2   GENDER                                               4436 non-null   object\n",
      " 3   AGE                                                  4436 non-null   object\n",
      " 4   SURVEY REGION                                        4436 non-null   object\n",
      " 5   FINANCIAL SITUATION                                  4436 non-null   object\n",
      " 6   EDUCATION STATUS                                     4436 non-null   object\n",
      " 7   EMPLOYMENT STATUS                                    4436 non-null   object\n",
      " 8   SURVEY STATE                                         4436 non-null   object\n",
      " 9   ARE CHILDREN ATTENDING FACE TO FACE CLASSES          4436 non-null   int64 \n",
      " 10  DID TEACHERS LEAVE THE EDUCATIONAL SYSTEM            4436 non-null   int64 \n",
      " 11  DO SCHOOL AND THE TEACHERS HAVE INTERNET CONNECTION  4436 non-null   int64 \n",
      " 12  DO CHILDREN HAVE INTERNET CONNECTION                 4436 non-null   int64 \n",
      "dtypes: int64(5), object(8)\n",
      "memory usage: 450.7+ KB\n"
     ]
    }
   ],
   "source": [
    "#Check for the new column names\n",
    "covedu1.info()"
   ]
  },
  {
   "cell_type": "markdown",
   "id": "32833017",
   "metadata": {},
   "source": [
    "Now we can start with our Exploratory Data Analysis"
   ]
  },
  {
   "cell_type": "markdown",
   "id": "1f1b7383",
   "metadata": {},
   "source": [
    "<a id='eda'></a>\n",
    "## Exploratory Data Analysis\n",
    "> **Tips** Here we'll perform some analysis on the cleaned data, using statistical computation and visualization.\n",
    "\n",
    "#### EDA Questions\n",
    "1. Which gender responded more to the survey?\n",
    "2. Would you say the said gender responded more because of their unemployment status?\n",
    "3. What percentage of the population are unemployed?\n",
    "4. What percentage of the population are financially okay?\n",
    "5. Were children attending face to face classes during covid-19?\n",
    "6. Did teachers leave the educational system during covid-19?\n",
    "7. What percentage of teachers and students had internet connection to join online classes?"
   ]
  },
  {
   "cell_type": "markdown",
   "id": "cc6a9613",
   "metadata": {},
   "source": [
    "### QUESTION 1\n",
    "Which gender responded more to the survey?"
   ]
  },
  {
   "cell_type": "code",
   "execution_count": 36,
   "id": "124d01df",
   "metadata": {},
   "outputs": [],
   "source": [
    "#Which gender responded more to the survey?\n",
    "#To do this, let's plot a bar chart to see this\n",
    "gencount = covedu1.groupby(['GENDER'])['GENDER'].count()"
   ]
  },
  {
   "cell_type": "code",
   "execution_count": 43,
   "id": "a9cb8911",
   "metadata": {
    "scrolled": true
   },
   "outputs": [
    {
     "data": {
      "image/png": "[encoded data removed]",
      "text/plain": [
       "<Figure size 432x288 with 1 Axes>"
      ]
     },
     "metadata": {
      "needs_background": "light"
     },
     "output_type": "display_data"
    }
   ],
   "source": [
    "gencount.plot(kind='bar')\n",
    "plt.title(\"GENDER DISTRIBUTION\")\n",
    "plt.xlabel(\"GENDER\")\n",
    "plt.ylabel(\"COUNT\")\n",
    "plt.xticks(rotation=45, ha='right')  # Rotate x-axis labels for better readability\n",
    "plt.grid(axis='y')#Add gridlines for better visualization"
   ]
  },
  {
   "cell_type": "markdown",
   "id": "7e88bd6f",
   "metadata": {},
   "source": [
    "#### Female gender responded more to the survey."
   ]
  },
  {
   "cell_type": "markdown",
   "id": "96a5cd78",
   "metadata": {},
   "source": [
    "### QUESTION 2\n",
    "Would you say the female gender responded more because of their employment status?"
   ]
  },
  {
   "cell_type": "code",
   "execution_count": 78,
   "id": "414ce4dd",
   "metadata": {
    "scrolled": true
   },
   "outputs": [
    {
     "name": "stdout",
     "output_type": "stream",
     "text": [
      "I work part-time                                              556\n",
      "I work full-time, either as an employee or self-employed      479\n",
      "I am unemployed                                               327\n",
      "I do housework                                                325\n",
      "I am a student                                                287\n",
      "I am a student and I work part-time                           189\n",
      "None of the above                                              85\n",
      "I am retired                                                   80\n",
      "I am unable to work due to long-term illness or disability      9\n",
      "I am doing community or military service                        2\n",
      "Unemployed                                                      1\n",
      "Employed full-time                                              1\n",
      "Name: EMPLOYMENT STATUS, dtype: int64\n"
     ]
    }
   ],
   "source": [
    "# Would you say the female gender responded more because of their employment status?\n",
    "#To answer this, check for female gender employment status\n",
    "# Filter data for females only\n",
    "female_covedu1 = covedu1[covedu1['GENDER'] == 'Female']\n",
    "\n",
    "# Group and count employment status for females\n",
    "female_employment_counts = female_covedu1['EMPLOYMENT STATUS'].value_counts()\n",
    "print(female_employment_counts)\n"
   ]
  },
  {
   "cell_type": "code",
   "execution_count": 88,
   "id": "a90f5cd1",
   "metadata": {
    "scrolled": true
   },
   "outputs": [
    {
     "data": {
      "text/plain": [
       "array(['I am unemployed',\n",
       "       'I work full-time, either as an employee or self-employed',\n",
       "       'I do housework', 'I work part-time', 'I am retired',\n",
       "       'I am a student and I work part-time', 'I am a student',\n",
       "       'None of the above', 'I am doing community or military service',\n",
       "       'I am unable to work due to long-term illness or disability',\n",
       "       'Not Available', 'Employed full-time', 'Retired', 'Student',\n",
       "       'Unemployed'], dtype=object)"
      ]
     },
     "execution_count": 88,
     "metadata": {},
     "output_type": "execute_result"
    }
   ],
   "source": [
    "covedu1['EMPLOYMENT STATUS'].unique()"
   ]
  },
  {
   "cell_type": "code",
   "execution_count": 94,
   "id": "52ab5560",
   "metadata": {},
   "outputs": [
    {
     "data": {
      "text/plain": [
       "array(['Over 45 years old', '26 to 35 years old', '36 to 45 years old',\n",
       "       '16 to 25 years old', 'Under 16', 'Not Available'], dtype=object)"
      ]
     },
     "execution_count": 94,
     "metadata": {},
     "output_type": "execute_result"
    }
   ],
   "source": [
    "covedu1['AGE'].unique()"
   ]
  },
  {
   "cell_type": "code",
   "execution_count": 74,
   "id": "fdd03700",
   "metadata": {},
   "outputs": [],
   "source": [
    "# Define aliases\n",
    "value_aliases = {'I work part-time, either as an employee or self-employed': 'I work part-time',\n",
    "                 'I work full-time, either as an employee or self-employed ': 'I work full-time',\n",
    "                'I do housework, fulfilling domestic tasks, looking after children':'I do housework'}\n",
    "\n",
    "# Replace values with aliases\n",
    "covedu1['EMPLOYMENT STATUS'] = covedu1['EMPLOYMENT STATUS'].replace(value_aliases)"
   ]
  },
  {
   "cell_type": "code",
   "execution_count": 85,
   "id": "b106f1fc",
   "metadata": {
    "scrolled": true
   },
   "outputs": [
    {
     "data": {
      "image/png": "[encoded data removed]",
      "text/plain": [
       "<Figure size 432x288 with 1 Axes>"
      ]
     },
     "metadata": {
      "needs_background": "light"
     },
     "output_type": "display_data"
    }
   ],
   "source": [
    "# Create the bar chart\n",
    "sns.barplot(female_employment_counts.index, female_employment_counts.values)\n",
    "\n",
    "# Add labels and title\n",
    "plt.xlabel(\"Employment Status\")\n",
    "plt.ylabel(\"Count\")\n",
    "plt.title(\"Employment Status Distribution for Females\")\n",
    "plt.xticks(rotation=270)  \n",
    "plt.show()"
   ]
  },
  {
   "cell_type": "markdown",
   "id": "30734cc1",
   "metadata": {},
   "source": [
    "We can't generalize that Female gender responded more because of thier employment status"
   ]
  },
  {
   "cell_type": "markdown",
   "id": "a0df4975",
   "metadata": {},
   "source": [
    "### QUESTION 3\n",
    "What percentage of the population are unemployed?"
   ]
  },
  {
   "cell_type": "code",
   "execution_count": 91,
   "id": "ec4fa9fd",
   "metadata": {},
   "outputs": [
    {
     "name": "stdout",
     "output_type": "stream",
     "text": [
      "1718\n"
     ]
    }
   ],
   "source": [
    "# What percentage of the population are unemployed?\n",
    "# Let's check for the unemployed in the population we have\n",
    "values_to_sum = ['I am unemployed',\n",
    "                 'I do housework',\n",
    "                'I am a student',\n",
    "                'I am retired',\n",
    "                'I am unable to work due to long-term illness or disability',\n",
    "                'I am doing community or military service',\n",
    "                'Unemployed']\n",
    "\n",
    "unemployed1 = covedu1[covedu1['EMPLOYMENT STATUS'].isin(values_to_sum)]['EMPLOYMENT STATUS'].count()\n",
    "print(unemployed1)"
   ]
  },
  {
   "cell_type": "code",
   "execution_count": 92,
   "id": "f4f436c2",
   "metadata": {},
   "outputs": [],
   "source": [
    "# From our data information, we have 4436 as the total population survey\n",
    "pop = 4436"
   ]
  },
  {
   "cell_type": "code",
   "execution_count": 93,
   "id": "1e0cc29c",
   "metadata": {},
   "outputs": [
    {
     "name": "stdout",
     "output_type": "stream",
     "text": [
      "38.72858431018936\n"
     ]
    }
   ],
   "source": [
    "# To calculate the percentage of the unemployed in the population survey\n",
    "per_pop_unemp = (unemployed1/pop)*100\n",
    "print(per_pop_unemp)"
   ]
  },
  {
   "cell_type": "markdown",
   "id": "3d8a9f0c",
   "metadata": {},
   "source": [
    "We have 38.73% of unemployed people in the population survey\n",
    "\n",
    "Here is another condition we could have considered, are those below 16years employable?"
   ]
  },
  {
   "cell_type": "markdown",
   "id": "56389107",
   "metadata": {},
   "source": [
    "### QUESTION 4\n",
    "What percentage of the population are financially okay?"
   ]
  },
  {
   "cell_type": "code",
   "execution_count": 95,
   "id": "6e763402",
   "metadata": {},
   "outputs": [
    {
     "data": {
      "text/plain": [
       "array(['I can afford food and regular expenses, but nothing else',\n",
       "       'I cannot afford enough food for my family',\n",
       "       'I can comfortably afford food, clothes, and furniture, and I have savings',\n",
       "       'I can afford food, but nothing else',\n",
       "       'I can comfortably afford food, clothes, and furniture, but I don’t have savings',\n",
       "       'I can afford food, regular expenses, and clothes, but nothing else',\n",
       "       'Prefer not to answer', 'Not Available'], dtype=object)"
      ]
     },
     "execution_count": 95,
     "metadata": {},
     "output_type": "execute_result"
    }
   ],
   "source": [
    "# What percentage of the population are financially okay?\n",
    "# Let's check the reponse of the population to their financial situation\n",
    "covedu1['FINANCIAL SITUATION'].unique()"
   ]
  },
  {
   "cell_type": "code",
   "execution_count": 96,
   "id": "351ee24a",
   "metadata": {},
   "outputs": [
    {
     "name": "stdout",
     "output_type": "stream",
     "text": [
      "1588\n"
     ]
    }
   ],
   "source": [
    "# Let's check for the sum of those who are financially okay in the population we have\n",
    "\n",
    "fin_values_to_sum = ['I can afford food and regular expenses, but nothing else',\n",
    "                 'I can comfortably afford food, clothes, and furniture, and I have savings',\n",
    "                'I can comfortably afford food, clothes, and furniture, but I don’t have savings',\n",
    "                'I can afford food, regular expenses, and clothes, but nothing else']\n",
    "\n",
    "finok = covedu1[covedu1['FINANCIAL SITUATION'].isin(fin_values_to_sum)]['FINANCIAL SITUATION'].count()\n",
    "print(finok)"
   ]
  },
  {
   "cell_type": "code",
   "execution_count": 97,
   "id": "7c144e73",
   "metadata": {},
   "outputs": [
    {
     "name": "stdout",
     "output_type": "stream",
     "text": [
      "35.79801623083859\n"
     ]
    }
   ],
   "source": [
    "# To calculate the percentage of those who are financially okay in the population survey\n",
    "per_fin_ok = (finok/pop)*100\n",
    "print(per_fin_ok)"
   ]
  },
  {
   "cell_type": "markdown",
   "id": "2301620f",
   "metadata": {},
   "source": [
    "We have 35.8% of the population survey who are financially okay"
   ]
  },
  {
   "cell_type": "markdown",
   "id": "2d64bb3c",
   "metadata": {},
   "source": [
    "### QUESTION 5\n",
    "What percentage of children attended face to face classes?"
   ]
  },
  {
   "cell_type": "code",
   "execution_count": 98,
   "id": "6a9154f7",
   "metadata": {},
   "outputs": [
    {
     "data": {
      "text/plain": [
       "array([0, 1], dtype=int64)"
      ]
     },
     "execution_count": 98,
     "metadata": {},
     "output_type": "execute_result"
    }
   ],
   "source": [
    "# What percentage of children attended face to face classes?\n",
    "covedu1['ARE CHILDREN ATTENDING FACE TO FACE CLASSES'].unique()"
   ]
  },
  {
   "cell_type": "code",
   "execution_count": 101,
   "id": "a76d1a6b",
   "metadata": {},
   "outputs": [],
   "source": [
    "# Define aliases (dictionary)\n",
    "value_aliases1 = {0: 'No',\n",
    "                 1: 'Yes'}\n",
    "\n",
    "# Replace values with aliases\n",
    "covedu1['ARE CHILDREN ATTENDING FACE TO FACE CLASSES'] = covedu1['ARE CHILDREN ATTENDING FACE TO FACE CLASSES'].replace(value_aliases1)"
   ]
  },
  {
   "cell_type": "code",
   "execution_count": 102,
   "id": "4255be9c",
   "metadata": {},
   "outputs": [
    {
     "data": {
      "text/plain": [
       "array(['No', 'Yes'], dtype=object)"
      ]
     },
     "execution_count": 102,
     "metadata": {},
     "output_type": "execute_result"
    }
   ],
   "source": [
    "covedu1['ARE CHILDREN ATTENDING FACE TO FACE CLASSES'].unique()"
   ]
  },
  {
   "cell_type": "code",
   "execution_count": 106,
   "id": "99212e25",
   "metadata": {
    "scrolled": true
   },
   "outputs": [
    {
     "data": {
      "image/png": "[encoded data removed]",
      "text/plain": [
       "<Figure size 432x288 with 1 Axes>"
      ]
     },
     "metadata": {
      "needs_background": "light"
     },
     "output_type": "display_data"
    }
   ],
   "source": [
    "# Let's count Yes and No responses\n",
    "yes = len(covedu1[covedu1['ARE CHILDREN ATTENDING FACE TO FACE CLASSES'] == 'Yes'])\n",
    "no = len(covedu1[covedu1['ARE CHILDREN ATTENDING FACE TO FACE CLASSES'] == 'No'])\n",
    "\n",
    "# Create a bar chart\n",
    "sns.barplot(x=['Yes', 'No'], y=[yes, no])\n",
    "\n",
    "#To add labels and title\n",
    "plt.xlabel(\"Response\")\n",
    "plt.ylabel(\"Count\")\n",
    "plt.title(\"WERE CHILDREN ATTENDING FACE TO FACE CLASSES DURING COVID-19?\")\n",
    "\n",
    "# Show the plot\n",
    "plt.show()"
   ]
  },
  {
   "cell_type": "markdown",
   "id": "713c0364",
   "metadata": {},
   "source": [
    "This shows that many children did not attend face to face class during the covid-19"
   ]
  },
  {
   "cell_type": "markdown",
   "id": "3b1ec285",
   "metadata": {},
   "source": [
    "### QUESTION 6\n",
    "Did teachers leave the educational system during covid-19?"
   ]
  },
  {
   "cell_type": "code",
   "execution_count": 107,
   "id": "cf157f57",
   "metadata": {},
   "outputs": [
    {
     "data": {
      "text/plain": [
       "array([0, 1], dtype=int64)"
      ]
     },
     "execution_count": 107,
     "metadata": {},
     "output_type": "execute_result"
    }
   ],
   "source": [
    "# Did teachers leave the educational system during covid-19?\n",
    "covedu1['DID TEACHERS LEAVE THE EDUCATIONAL SYSTEM'].unique()"
   ]
  },
  {
   "cell_type": "code",
   "execution_count": 108,
   "id": "54e3d903",
   "metadata": {},
   "outputs": [],
   "source": [
    "# Define aliases\n",
    "value_aliases1 = {0: 'No',\n",
    "                 1: 'Yes'}\n",
    "\n",
    "# Replace values with aliases\n",
    "covedu1['DID TEACHERS LEAVE THE EDUCATIONAL SYSTEM'] = covedu1['DID TEACHERS LEAVE THE EDUCATIONAL SYSTEM'].replace(value_aliases1)"
   ]
  },
  {
   "cell_type": "code",
   "execution_count": 124,
   "id": "40a055e5",
   "metadata": {
    "scrolled": false
   },
   "outputs": [
    {
     "data": {
      "image/png": "[encoded data removed]",
      "text/plain": [
       "<Figure size 432x288 with 1 Axes>"
      ]
     },
     "metadata": {},
     "output_type": "display_data"
    }
   ],
   "source": [
    "# Let's count occurrences of \"Yes\" and \"No\" responses\n",
    "yes2 = covedu1['DID TEACHERS LEAVE THE EDUCATIONAL SYSTEM'].value_counts()['Yes']\n",
    "no2 = covedu1['DID TEACHERS LEAVE THE EDUCATIONAL SYSTEM'].value_counts()['No']\n",
    "\n",
    "#Create a list of response labels and counts\n",
    "response_labels = ['Yes', 'No']\n",
    "counts = [yes2, no2]\n",
    "\n",
    "#Let's use pie chart to represent this\n",
    "plt.pie(counts, labels=response_labels, autopct=lambda pct: f\"{np.ceil(pct)}%\")\n",
    "plt.title(\"DID TEACHERS LEAVE THE EDUCATIONAL SYSTEM?\")\n",
    "plt.show()"
   ]
  },
  {
   "cell_type": "markdown",
   "id": "b1da1948",
   "metadata": {},
   "source": [
    "This shows that Teachers left the educational system during the covid-19 period, probably because schools had to lay-off teachers because of the low turn up of students"
   ]
  },
  {
   "cell_type": "markdown",
   "id": "0e162f47",
   "metadata": {},
   "source": [
    "### QUESTION 7\n",
    "What percentage of teachers and students had internet connection to join online classes?"
   ]
  },
  {
   "cell_type": "code",
   "execution_count": 125,
   "id": "fd4319cb",
   "metadata": {},
   "outputs": [
    {
     "data": {
      "text/plain": [
       "array([1, 0], dtype=int64)"
      ]
     },
     "execution_count": 125,
     "metadata": {},
     "output_type": "execute_result"
    }
   ],
   "source": [
    "# What percentage of teachers and students had internet connection to join online classes?\n",
    "# To start with let's check for Teachers\n",
    "covedu1['DO SCHOOL AND THE TEACHERS HAVE INTERNET CONNECTION'].unique()"
   ]
  },
  {
   "cell_type": "code",
   "execution_count": 126,
   "id": "5ae24085",
   "metadata": {},
   "outputs": [],
   "source": [
    "# Define aliases\n",
    "value_aliases3 = {0: 'No',\n",
    "                 1: 'Yes'}\n",
    "\n",
    "# Replace values with aliases\n",
    "covedu1['DO SCHOOL AND THE TEACHERS HAVE INTERNET CONNECTION'] = covedu1['DO SCHOOL AND THE TEACHERS HAVE INTERNET CONNECTION'].replace(value_aliases3)"
   ]
  },
  {
   "cell_type": "code",
   "execution_count": 131,
   "id": "4665e719",
   "metadata": {},
   "outputs": [
    {
     "data": {
      "text/plain": [
       "2486"
      ]
     },
     "execution_count": 131,
     "metadata": {},
     "output_type": "execute_result"
    }
   ],
   "source": [
    "#To create a value count for teachers with internet\n",
    "teacher_int = covedu1['DO SCHOOL AND THE TEACHERS HAVE INTERNET CONNECTION'].value_counts()['Yes']\n",
    "teacher_int"
   ]
  },
  {
   "cell_type": "code",
   "execution_count": 130,
   "id": "63d38fe3",
   "metadata": {},
   "outputs": [
    {
     "data": {
      "text/plain": [
       "2486"
      ]
     },
     "execution_count": 130,
     "metadata": {},
     "output_type": "execute_result"
    }
   ],
   "source": [
    "yes33 = len(covedu1[covedu1['DO SCHOOL AND THE TEACHERS HAVE INTERNET CONNECTION'] == 'Yes'])\n",
    "yes33"
   ]
  },
  {
   "cell_type": "code",
   "execution_count": 132,
   "id": "90656366",
   "metadata": {
    "scrolled": true
   },
   "outputs": [
    {
     "name": "stdout",
     "output_type": "stream",
     "text": [
      "56.0414788097385\n"
     ]
    }
   ],
   "source": [
    "# From our data information, we have 4436 as the total population survey\n",
    "pop = 4436\n",
    "\n",
    "# To calculate the percentage of teachers with internet in the population survey\n",
    "per_teacher_int = (teacher_int/pop)*100\n",
    "print(per_teacher_int)"
   ]
  },
  {
   "cell_type": "markdown",
   "id": "d9bd3d7a",
   "metadata": {},
   "source": [
    "This shows 56.04% of teachers have access to internet  during the covid-19 for online classes"
   ]
  },
  {
   "cell_type": "code",
   "execution_count": 133,
   "id": "cc23ecb9",
   "metadata": {},
   "outputs": [
    {
     "data": {
      "text/plain": [
       "array([1, 0], dtype=int64)"
      ]
     },
     "execution_count": 133,
     "metadata": {},
     "output_type": "execute_result"
    }
   ],
   "source": [
    "# Let's check for percentage of children with internet\n",
    "covedu1['DO CHILDREN HAVE INTERNET CONNECTION'].unique()"
   ]
  },
  {
   "cell_type": "code",
   "execution_count": 134,
   "id": "f40d5d57",
   "metadata": {},
   "outputs": [],
   "source": [
    "# Define aliases\n",
    "value_aliases4 = {0: 'No',\n",
    "                 1: 'Yes'}\n",
    "\n",
    "# Replace values with aliases\n",
    "covedu1['DO CHILDREN HAVE INTERNET CONNECTION'] = covedu1['DO CHILDREN HAVE INTERNET CONNECTION'].replace(value_aliases4)"
   ]
  },
  {
   "cell_type": "code",
   "execution_count": 136,
   "id": "aaa5a154",
   "metadata": {},
   "outputs": [
    {
     "data": {
      "text/plain": [
       "2788"
      ]
     },
     "execution_count": 136,
     "metadata": {},
     "output_type": "execute_result"
    }
   ],
   "source": [
    "#To create a value count for children with internet\n",
    "children_int = covedu1['DO CHILDREN HAVE INTERNET CONNECTION'].value_counts()['Yes']\n",
    "children_int"
   ]
  },
  {
   "cell_type": "code",
   "execution_count": 137,
   "id": "00cf37c7",
   "metadata": {},
   "outputs": [
    {
     "name": "stdout",
     "output_type": "stream",
     "text": [
      "62.849413886384134\n"
     ]
    }
   ],
   "source": [
    "# From our data information, we have 4436 as the total population survey\n",
    "pop = 4436\n",
    "\n",
    "# To calculate the percentage of children with internet in the population survey\n",
    "per_children_int = (children_int/pop)*100\n",
    "print(per_children_int)"
   ]
  },
  {
   "cell_type": "markdown",
   "id": "c2396850",
   "metadata": {},
   "source": [
    "This shows 62.85% of children have access to internet  during the covid-19 to join online classes"
   ]
  },
  {
   "cell_type": "markdown",
   "id": "d3059983",
   "metadata": {},
   "source": [
    "<a id='conclusions'></a>\n",
    "# Conclusions"
   ]
  },
  {
   "cell_type": "markdown",
   "id": "993d6fa3",
   "metadata": {},
   "source": [
    "##### This dataset has so much questions to be asked, but here are some finding pulled out of the dataset.\n",
    "\n",
    "- Female gender responded more to the survey.  \n",
    "- We can't generalize that Female gender responded more because of thier employment status.  \n",
    "- We have 38.73% of unemployed people in the population survey.  \n",
    "- Here is another condition we could have considered, are those below 16years employable?  \n",
    "- We have 35.8% of the population survey who are financially okay.  \n",
    "- Children did not attend face to face class during the covid-19.  \n",
    "- Teachers left the educational system during the covid-19 period, probably because schools had to lay-off teachers because of the low turn up of students, or challenges faced by schools.  \n",
    "- 56.04% of teachers have access to internet during the covid-19 for online classes.  \n",
    "- 62.85% of children have access to internet during the covid-19 to join online classes.  "
   ]
  }
 ],
 "metadata": {
  "kernelspec": {
   "display_name": "Python 3",
   "language": "python",
   "name": "python3"
  },
  "language_info": {
   "codemirror_mode": {
    "name": "ipython",
    "version": 3
   },
   "file_extension": ".py",
   "mimetype": "text/x-python",
   "name": "python",
   "nbconvert_exporter": "python",
   "pygments_lexer": "ipython3",
   "version": "3.8.8"
  }
 },
 "nbformat": 4,
 "nbformat_minor": 5
}
